{
 "cells": [
  {
   "cell_type": "code",
   "execution_count": null,
   "id": "b760eb50",
   "metadata": {},
   "outputs": [],
   "source": [
    "import numpy as np\n",
    "import os\n",
    "import math\n",
    "import matplotlib.pyplot as plt\n",
    "import random\n",
    "import h5py"
   ]
  },
  {
   "cell_type": "code",
   "execution_count": null,
   "id": "9cc2185a",
   "metadata": {},
   "outputs": [],
   "source": [
    "from modules.construction import create_trajectories, process_construction, insert_length, load_ego_trajectories,\\\n",
    "                                 load_road_points, load_constr_points, load_constr_corner_points\n",
    "from modules.general import global2local2d, global2local3d, global2localall"
   ]
  },
  {
   "cell_type": "code",
   "execution_count": null,
   "id": "ea20349f",
   "metadata": {},
   "outputs": [],
   "source": [
    "data_path = \"/home/juan/Documents/simulators/cone_sim/simulations/\""
   ]
  },
  {
   "cell_type": "code",
   "execution_count": null,
   "id": "92fd0ad1",
   "metadata": {},
   "outputs": [],
   "source": [
    "filename = \"sim_20240307_093036\""
   ]
  },
  {
   "cell_type": "code",
   "execution_count": null,
   "id": "cd7a9d85",
   "metadata": {},
   "outputs": [],
   "source": [
    "past_traj, future_traj = load_ego_trajectories(filename, data_path)\n",
    "road_pts_np = load_road_points(filename, data_path)\n",
    "obj_pts_np = load_constr_points(filename, data_path)\n",
    "obj_corners_np = load_constr_corner_points(filename, data_path)"
   ]
  },
  {
   "cell_type": "code",
   "execution_count": null,
   "id": "774a69c7",
   "metadata": {},
   "outputs": [],
   "source": [
    "past_traj.shape"
   ]
  },
  {
   "cell_type": "code",
   "execution_count": null,
   "id": "597661f9",
   "metadata": {},
   "outputs": [],
   "source": [
    "road_pts_np.shape"
   ]
  },
  {
   "cell_type": "code",
   "execution_count": null,
   "id": "0cae7510",
   "metadata": {},
   "outputs": [],
   "source": [
    "n_traj = past_traj.shape[0]"
   ]
  },
  {
   "cell_type": "code",
   "execution_count": null,
   "id": "9e6be217",
   "metadata": {},
   "outputs": [],
   "source": [
    "for traj_number in range(n_traj):\n",
    "    current_ego = past_traj[traj_number,3,:]\n",
    "    current_map = road_pts_np[traj_number]\n",
    "    current_past = past_traj[traj_number]\n",
    "    current_future = future_traj[traj_number]\n",
    "\n",
    "    centered_map = global2localall(current_map, current_ego, dim=3, yaw_info=False)\n",
    "    centered_past = global2localall(current_past, current_ego, dim=3, yaw_info=True)\n",
    "    centered_future = global2localall(current_future, current_ego, dim=3, yaw_info=True)\n",
    "    centered_obj = global2localall(obj_pts_np, current_ego, dim=3, yaw_info=False)\n",
    "    centered_obj_corners = global2localall(obj_corners_np, current_ego, dim=3, yaw_info=False)\n",
    "    #centered_obj = process_construction(centered_obj, current_ego)\n",
    "    break"
   ]
  },
  {
   "cell_type": "code",
   "execution_count": null,
   "id": "0d79a868",
   "metadata": {},
   "outputs": [],
   "source": [
    "print(\"First element:{}\\nShape:{}\\n\".format(centered_map[0], centered_map[0].shape))"
   ]
  },
  {
   "cell_type": "code",
   "execution_count": null,
   "id": "4eb8d3ff",
   "metadata": {},
   "outputs": [],
   "source": [
    "plt.figure(figsize=(20, 16))\n",
    "\n",
    "plt.scatter(centered_map[:,0], centered_map[:,1], color='gray', label='road')\n",
    "plt.scatter(centered_obj[:,0], centered_obj[:,1], color='orange', label='construction zone')\n",
    "plt.scatter(centered_future[:,0], centered_future[:,1], color='blue', label='future')\n",
    "plt.scatter(centered_past[:,0], centered_past[:,1], color='red', label='past')\n",
    "plt.scatter(centered_obj_corners[:,0], centered_obj_corners[:,1], marker='*', color='orange', label='corners')\n",
    "\n",
    "ax = plt.gca()\n",
    "ax.set_aspect('equal')\n",
    "ax.set_xlim([-40,40])\n",
    "ax.set_ylim([-40,40])\n",
    "plt.legend()"
   ]
  },
  {
   "cell_type": "code",
   "execution_count": null,
   "id": "62b71fb7",
   "metadata": {},
   "outputs": [],
   "source": [
    "current_past[0]"
   ]
  },
  {
   "cell_type": "code",
   "execution_count": null,
   "id": "9c1bf8b7",
   "metadata": {},
   "outputs": [],
   "source": [
    "current_past[0]"
   ]
  },
  {
   "cell_type": "code",
   "execution_count": null,
   "id": "77cd9865",
   "metadata": {},
   "outputs": [],
   "source": [
    "centered_obj = centered_obj.reshape(-1, 1, centered_obj.shape[-1])\n",
    "centered_obj.shape"
   ]
  },
  {
   "cell_type": "code",
   "execution_count": null,
   "id": "7184dc6d",
   "metadata": {},
   "outputs": [],
   "source": [
    "centered_obj_corners.shape"
   ]
  },
  {
   "cell_type": "code",
   "execution_count": null,
   "id": "0aa81c16",
   "metadata": {},
   "outputs": [],
   "source": [
    "centered_obj_corners = centered_obj_corners.reshape(-1, 4, centered_obj_corners.shape[-1])\n",
    "centered_obj_corners.shape"
   ]
  },
  {
   "cell_type": "code",
   "execution_count": null,
   "id": "3ac1b259",
   "metadata": {},
   "outputs": [],
   "source": [
    "centered_map = centered_map.reshape(100, 40, centered_map.shape[-1])\n",
    "centered_map.shape"
   ]
  },
  {
   "cell_type": "code",
   "execution_count": null,
   "id": "b289f9c2",
   "metadata": {},
   "outputs": [],
   "source": [
    "centered_obj = centered_obj.reshape(-1, 1, centered_obj.shape[-1])\n",
    "centered_obj_corners = centered_obj_corners.reshape(-1, 4, centered_obj_corners.shape[-1])\n",
    "centered_map = centered_map.reshape(100, 40, centered_map.shape[-1])"
   ]
  },
  {
   "cell_type": "code",
   "execution_count": null,
   "id": "1c28c4cd",
   "metadata": {},
   "outputs": [],
   "source": [
    "centered_map = insert_length(centered_map)"
   ]
  },
  {
   "cell_type": "code",
   "execution_count": null,
   "id": "7eefaa7b",
   "metadata": {},
   "outputs": [],
   "source": [
    "centered_map.shape"
   ]
  },
  {
   "cell_type": "code",
   "execution_count": null,
   "id": "22c62bc8",
   "metadata": {},
   "outputs": [],
   "source": [
    "centered_obj.shape"
   ]
  },
  {
   "cell_type": "code",
   "execution_count": null,
   "id": "2b630600",
   "metadata": {},
   "outputs": [],
   "source": [
    "centered_obj"
   ]
  },
  {
   "cell_type": "code",
   "execution_count": null,
   "id": "04ab3c1b",
   "metadata": {},
   "outputs": [],
   "source": [
    "centered_obj = process_construction(centered_obj, [0,0,0])"
   ]
  },
  {
   "cell_type": "code",
   "execution_count": null,
   "id": "2036e3b0",
   "metadata": {},
   "outputs": [],
   "source": [
    "centered_obj.shape"
   ]
  },
  {
   "cell_type": "code",
   "execution_count": null,
   "id": "a338b99c",
   "metadata": {},
   "outputs": [],
   "source": [
    "centered_obj_corners = process_construction(centered_obj_corners, [0,0,0])"
   ]
  },
  {
   "cell_type": "code",
   "execution_count": null,
   "id": "8985a4c2",
   "metadata": {},
   "outputs": [],
   "source": [
    "centered_obj_corners.shape"
   ]
  },
  {
   "cell_type": "markdown",
   "id": "d4dd2e7c",
   "metadata": {},
   "source": [
    "## Dataset creation"
   ]
  },
  {
   "cell_type": "code",
   "execution_count": null,
   "id": "0688d259",
   "metadata": {},
   "outputs": [],
   "source": [
    "simulation_folder = \"/home/juan/Documents/simulators/cone_sim/simulations/sim_20240307_093036\""
   ]
  },
  {
   "cell_type": "code",
   "execution_count": null,
   "id": "c6840c59",
   "metadata": {},
   "outputs": [],
   "source": [
    "lane_centers_path = os.path.join(simulation_folder, \"lane_centers_pts_np.txt\")\n",
    "ego_points_path = os.path.join(simulation_folder, \"ego_points_np.txt\")\n",
    "waypoints_pts_path = os.path.join(simulation_folder, \"waypoints_pts_np.txt\")\n",
    "static_points_path = os.path.join(simulation_folder, \"static_points_np.txt\")\n",
    "trajectory_path = os.path.join(simulation_folder, \"trajectory_control_np.txt\")\n",
    "road_path = os.path.join(simulation_folder, \"road_pts_np.txt\")\n",
    "success_path = os.path.join(simulation_folder, \"success.txt\")"
   ]
  },
  {
   "cell_type": "code",
   "execution_count": null,
   "id": "068a7be6",
   "metadata": {},
   "outputs": [],
   "source": [
    "success_np = np.loadtxt(success_path)"
   ]
  },
  {
   "cell_type": "code",
   "execution_count": null,
   "id": "491ca1ae",
   "metadata": {},
   "outputs": [],
   "source": [
    "success_np"
   ]
  },
  {
   "cell_type": "code",
   "execution_count": null,
   "id": "2c435b4a",
   "metadata": {},
   "outputs": [],
   "source": [
    "road_pts_np = np.loadtxt(lane_centers_path)\n",
    "ego_points_np = np.loadtxt(ego_points_path)\n",
    "waypoints_pts_np = np.loadtxt(waypoints_pts_path)\n",
    "static_points_np = np.loadtxt(static_points_path)\n",
    "trajectory_control_np = np.loadtxt(trajectory_path)\n",
    "road_pts_np = np.loadtxt(road_path)"
   ]
  },
  {
   "cell_type": "code",
   "execution_count": null,
   "id": "638f0c01",
   "metadata": {},
   "outputs": [],
   "source": [
    "road_pts_np.shape"
   ]
  },
  {
   "cell_type": "code",
   "execution_count": null,
   "id": "823e3b6b",
   "metadata": {},
   "outputs": [],
   "source": [
    "road_pts_np"
   ]
  },
  {
   "cell_type": "code",
   "execution_count": null,
   "id": "c5aa925c",
   "metadata": {},
   "outputs": [],
   "source": [
    "road_pts_np_pro = road_pts_np.reshape(-1,100,40,6)\n",
    "road_pts_np_pro.shape"
   ]
  },
  {
   "cell_type": "code",
   "execution_count": null,
   "id": "4210af57",
   "metadata": {},
   "outputs": [],
   "source": [
    "trajectory_control_np.shape"
   ]
  },
  {
   "cell_type": "code",
   "execution_count": null,
   "id": "1fe045a2",
   "metadata": {},
   "outputs": [],
   "source": [
    "past_traj, future_traj = create_trajectories(trajectory_control_np)\n",
    "\n",
    "print(\"Past Trajectories Shape:\", past_traj.shape)\n",
    "print(\"Future Trajectories Shape:\", future_traj.shape)"
   ]
  },
  {
   "cell_type": "code",
   "execution_count": null,
   "id": "2d4a98f3",
   "metadata": {},
   "outputs": [],
   "source": [
    "traj_number = 15"
   ]
  },
  {
   "cell_type": "code",
   "execution_count": null,
   "id": "2a4a4c92",
   "metadata": {},
   "outputs": [],
   "source": [
    "road_pts_np_pro.shape"
   ]
  },
  {
   "cell_type": "code",
   "execution_count": null,
   "id": "85800ed9",
   "metadata": {},
   "outputs": [],
   "source": [
    "current_ego = past_traj[traj_number, 3,:]\n",
    "current_map = road_pts_np_pro[traj_number]\n",
    "current_past = past_traj[traj_number]\n",
    "current_future = future_traj[traj_number]"
   ]
  },
  {
   "cell_type": "code",
   "execution_count": null,
   "id": "53c6b8ec",
   "metadata": {},
   "outputs": [],
   "source": [
    "current_ego"
   ]
  },
  {
   "cell_type": "code",
   "execution_count": null,
   "id": "54307017",
   "metadata": {},
   "outputs": [],
   "source": [
    "current_map.shape"
   ]
  },
  {
   "cell_type": "code",
   "execution_count": null,
   "id": "3a759602",
   "metadata": {},
   "outputs": [],
   "source": [
    "static_points_np = static_points_np.reshape(static_points_np.shape[0], 1, static_points_np.shape[-1])\n",
    "static_points_np.shape"
   ]
  },
  {
   "cell_type": "code",
   "execution_count": null,
   "id": "7c5012c2",
   "metadata": {},
   "outputs": [],
   "source": [
    "obj_pts_np_pro = process_construction(static_points_np, current_ego)\n",
    "obj_pts_np_pro.shape"
   ]
  },
  {
   "cell_type": "code",
   "execution_count": null,
   "id": "0a6f58a5",
   "metadata": {},
   "outputs": [],
   "source": [
    "current_map[:,:,:2].shape"
   ]
  },
  {
   "cell_type": "code",
   "execution_count": null,
   "id": "7df55bb1",
   "metadata": {},
   "outputs": [],
   "source": [
    "current_map_plt = current_map[:,:,:2].reshape(-1,2)\n",
    "current_map_plt.shape"
   ]
  },
  {
   "cell_type": "code",
   "execution_count": null,
   "id": "f66e21be",
   "metadata": {},
   "outputs": [],
   "source": [
    "plt.figure(figsize=(20, 16))\n",
    "\n",
    "plt.scatter(current_map_plt[:,0], current_map_plt[:,1], color='gray')\n",
    "plt.scatter(current_past[:,0], current_past[:,1], color='red')\n",
    "plt.scatter(current_future[:,0], current_future[:,1], color='blue')\n",
    "plt.scatter(static_points_np[:,0,0], static_points_np[:,0,1], color='orange')\n",
    "\n",
    "\n",
    "ax = plt.gca()\n",
    "ax.set_aspect('equal')"
   ]
  },
  {
   "cell_type": "code",
   "execution_count": null,
   "id": "489629d9",
   "metadata": {},
   "outputs": [],
   "source": [
    "current_map[:,:,:2].shape"
   ]
  },
  {
   "cell_type": "code",
   "execution_count": null,
   "id": "7a5f6ef7",
   "metadata": {},
   "outputs": [],
   "source": [
    "\"\"\"def substract_ego_location(points, ego_loc):# Iterate through the array and subtract the point\n",
    "    points_cp = points.copy()\n",
    "    if  len(points.shape) == 3:\n",
    "        for segment in points_cp:\n",
    "            for point in segment:\n",
    "                if not np.all(point == [0, 0]):  # Check if the point is not zeros\n",
    "                    point -= ego_loc\n",
    "    else:\n",
    "        for point in points_cp:\n",
    "            if not np.all(point == [0, 0]):  # Check if the point is not zeros\n",
    "                point -= ego_loc\n",
    "    return points_cp\n",
    "\n",
    "def global2local(global_array, ego_vector):\n",
    "    #global_array = global_array.reshape(-1, 2)\n",
    "    local_array = substract_ego_location(global_array, ego_vector[:2])\n",
    "    local_array = rotation_yaw(local_array, radian2degree(ego_vector[5])-90)\n",
    "    return local_array\"\"\""
   ]
  },
  {
   "cell_type": "code",
   "execution_count": null,
   "id": "603ffff4",
   "metadata": {},
   "outputs": [],
   "source": [
    "\"\"\"def rotation_yaw(points, yaw):\n",
    "    # Convert rotation to radians\n",
    "    yaw = math.radians(yaw)\n",
    "\n",
    "    # Calculate rotation matrices\n",
    "    R = np.array([[math.cos(yaw), -math.sin(yaw)],\n",
    "                  [math.sin(yaw), math.cos(yaw)]])\n",
    "\n",
    "    # Apply rotation\n",
    "    return np.dot(points,R)\n",
    "\n",
    "def radian2degree(rad_angle):\n",
    "    return rad_angle*180/math.pi\"\"\""
   ]
  },
  {
   "cell_type": "code",
   "execution_count": null,
   "id": "3177e0be",
   "metadata": {},
   "outputs": [],
   "source": [
    "centered_map = global2localall(current_map, current_ego, dim=3, yaw_info=False)\n",
    "centered_map.shape"
   ]
  },
  {
   "cell_type": "code",
   "execution_count": null,
   "id": "2e06e5c6",
   "metadata": {},
   "outputs": [],
   "source": [
    "current_ego"
   ]
  },
  {
   "cell_type": "code",
   "execution_count": null,
   "id": "4a44798d",
   "metadata": {},
   "outputs": [],
   "source": [
    "centered_past = global2localall(current_past, current_ego, dim=3, yaw_info=True)\n",
    "centered_future = global2localall(current_future, current_ego, dim=3, yaw_info=True)"
   ]
  },
  {
   "cell_type": "code",
   "execution_count": null,
   "id": "22690f81",
   "metadata": {},
   "outputs": [],
   "source": [
    "\"\"\"def global2local3d(global_coord, ego_coord):\n",
    "    local_coord = global2local(global_coord[:,:2], ego_coord)\n",
    "    local_coord = np.concatenate((local_coord, (global_coord[:,2] - ego_coord[2]).reshape(global_coord.shape[0],1)), axis=1)\n",
    "    return local_coord\"\"\""
   ]
  },
  {
   "cell_type": "code",
   "execution_count": null,
   "id": "9cd28b8a",
   "metadata": {},
   "outputs": [],
   "source": [
    "current_past"
   ]
  },
  {
   "cell_type": "code",
   "execution_count": null,
   "id": "eb2a23b3",
   "metadata": {},
   "outputs": [],
   "source": [
    "centered_past"
   ]
  },
  {
   "cell_type": "code",
   "execution_count": null,
   "id": "5c506d2a",
   "metadata": {},
   "outputs": [],
   "source": [
    "(current_past[:, 2] - current_ego[2])"
   ]
  },
  {
   "cell_type": "code",
   "execution_count": null,
   "id": "4582785b",
   "metadata": {},
   "outputs": [],
   "source": [
    "np.concatenate((centered_past, (current_past[:, 2] - current_ego[2]).reshape(4, 1)), axis=1)"
   ]
  },
  {
   "cell_type": "code",
   "execution_count": null,
   "id": "5aefeb27",
   "metadata": {},
   "outputs": [],
   "source": [
    "centered_map.shape"
   ]
  },
  {
   "cell_type": "code",
   "execution_count": null,
   "id": "7995f408",
   "metadata": {},
   "outputs": [],
   "source": [
    "centered_obj.shape"
   ]
  },
  {
   "cell_type": "code",
   "execution_count": null,
   "id": "656c4c44",
   "metadata": {},
   "outputs": [],
   "source": [
    "static_points_np.shape"
   ]
  },
  {
   "cell_type": "code",
   "execution_count": null,
   "id": "a26c5906",
   "metadata": {},
   "outputs": [],
   "source": [
    "centered_obj = global2localall(static_points_np, current_ego, dim=3, yaw_info=False)"
   ]
  },
  {
   "cell_type": "code",
   "execution_count": null,
   "id": "43e1935f",
   "metadata": {},
   "outputs": [],
   "source": [
    "centered_obj.shape"
   ]
  },
  {
   "cell_type": "code",
   "execution_count": null,
   "id": "80e7d66f",
   "metadata": {
    "scrolled": false
   },
   "outputs": [],
   "source": [
    "plt.figure(figsize=(20, 16))\n",
    "\n",
    "plt.scatter(centered_map[:,0], centered_map[:,1], color='gray')\n",
    "plt.scatter(centered_past[:,0], centered_past[:,1], color='red')\n",
    "plt.scatter(centered_future[:,0], centered_future[:,1], color='blue')\n",
    "plt.scatter(centered_obj[:,0], centered_obj[:,1], color='orange')\n",
    "ax = plt.gca()\n",
    "ax.set_aspect('equal')"
   ]
  },
  {
   "cell_type": "markdown",
   "id": "00513b02",
   "metadata": {},
   "source": [
    "# Dataset creation pipleine"
   ]
  },
  {
   "cell_type": "code",
   "execution_count": null,
   "id": "08c81f76",
   "metadata": {},
   "outputs": [],
   "source": [
    "def split_list(input_list, val_ratio=0.1):\n",
    "    # Shuffle the list to ensure random distribution\n",
    "    random.shuffle(input_list)\n",
    "\n",
    "    # Calculate the split index\n",
    "    split_index = int(len(input_list) * (1 - val_ratio))\n",
    "\n",
    "    # Split the list\n",
    "    train_list = input_list[:split_index]\n",
    "    val_list = input_list[split_index:]\n",
    "\n",
    "    return train_list, val_list"
   ]
  },
  {
   "cell_type": "code",
   "execution_count": null,
   "id": "f4685e4b",
   "metadata": {},
   "outputs": [],
   "source": [
    "def calculate_length(data_list):\n",
    "    n = 0\n",
    "    for i, element in enumerate(data_list):\n",
    "        trajectory_path = os.path.join(data_path, element, \"trajectory_control_np.txt\")\n",
    "        trajectory_control_np = np.loadtxt(trajectory_path)\n",
    "        m = trajectory_control_np.shape[0]-15\n",
    "        print(\"({}):{}\".format(i, m))\n",
    "        n += m\n",
    "    return n        "
   ]
  },
  {
   "cell_type": "code",
   "execution_count": null,
   "id": "85d85ee8",
   "metadata": {},
   "outputs": [],
   "source": [
    "data_path = \"/home/juan/Documents/simulators/cone_sim/simulations/\""
   ]
  },
  {
   "cell_type": "code",
   "execution_count": null,
   "id": "4c2fccba",
   "metadata": {},
   "outputs": [],
   "source": [
    "filtered_path = \"/home/juan/Documents/simulators/cone_sim/filtered/\""
   ]
  },
  {
   "cell_type": "code",
   "execution_count": null,
   "id": "9d8d8ed5",
   "metadata": {},
   "outputs": [],
   "source": [
    "filenames = os.listdir(data_path)"
   ]
  },
  {
   "cell_type": "code",
   "execution_count": null,
   "id": "39b3bf52",
   "metadata": {},
   "outputs": [],
   "source": [
    "total = 0\n",
    "filtered_filenames = []\n",
    "for filename in filenames:\n",
    "    try:\n",
    "        success_file = os.path.join(data_path, filename, \"success.txt\")\n",
    "        success_flag = np.loadtxt(success_file)\n",
    "        #print(success_flag)\n",
    "        total += success_flag\n",
    "        if success_flag:\n",
    "            filtered_filenames.append(filename)\n",
    "    except Exception as e:\n",
    "        pass\n",
    "        #print(\"Failed to create file\")\n",
    "        \n",
    "print(\"{}/{}\".format(int(total), len(filenames)))\n",
    "print(total/len(filenames))"
   ]
  },
  {
   "cell_type": "code",
   "execution_count": null,
   "id": "a6a04f81",
   "metadata": {},
   "outputs": [],
   "source": [
    "#import shutil"
   ]
  },
  {
   "cell_type": "code",
   "execution_count": null,
   "id": "8d5774b0",
   "metadata": {},
   "outputs": [],
   "source": [
    "len(filtered_filenames)"
   ]
  },
  {
   "cell_type": "code",
   "execution_count": null,
   "id": "ed465ac6",
   "metadata": {},
   "outputs": [],
   "source": [
    "\"\"\"for folder in filtered_filenames:\n",
    "    source_dir = os.path.join(data_path, folder)\n",
    "    destination_dir = os.path.join(filtered_path, folder)\n",
    "    try:\n",
    "        shutil.copytree(source_dir, destination_dir)\n",
    "        print(f\"Folder copied successfully from {source_dir} to {destination_dir}\")\n",
    "    except Exception as e:\n",
    "        print(f\"Error occurred: {e}\")\"\"\""
   ]
  },
  {
   "cell_type": "code",
   "execution_count": null,
   "id": "f4e77f4e",
   "metadata": {},
   "outputs": [],
   "source": [
    "train_list, val_list = split_list(filtered_filenames, val_ratio=0.2)"
   ]
  },
  {
   "cell_type": "code",
   "execution_count": null,
   "id": "8a58fa85",
   "metadata": {},
   "outputs": [],
   "source": [
    "len(val_list)"
   ]
  },
  {
   "cell_type": "code",
   "execution_count": null,
   "id": "b9704b0f",
   "metadata": {},
   "outputs": [],
   "source": [
    "len(train_list)"
   ]
  },
  {
   "cell_type": "code",
   "execution_count": null,
   "id": "237b01df",
   "metadata": {},
   "outputs": [],
   "source": [
    "len(val_list) + len(train_list)"
   ]
  },
  {
   "cell_type": "code",
   "execution_count": null,
   "id": "6aaae35d",
   "metadata": {},
   "outputs": [],
   "source": [
    "SPLIT_NAME = \"val\"\n",
    "MAX_NUM_AGENTS = 7\n",
    "NUM_FEATURES = 8"
   ]
  },
  {
   "cell_type": "code",
   "execution_count": null,
   "id": "34a661fa",
   "metadata": {},
   "outputs": [],
   "source": [
    "SAVE_DIR = os.path.join(\"/home/juan/Documents/simulators/cone_sim/dataset/\")\n",
    "\n",
    "if SPLIT_NAME == \"val\":\n",
    "    print(\"VAL SPLIT\")\n",
    "    data_list = val_list\n",
    "    num_scenes = calculate_length(val_list)\n",
    "else:\n",
    "    print(\"TRAIN SPLIT\")\n",
    "    data_list = train_list\n",
    "    num_scenes = calculate_length(train_list)"
   ]
  },
  {
   "cell_type": "code",
   "execution_count": null,
   "id": "d833f65d",
   "metadata": {},
   "outputs": [],
   "source": [
    "num_scenes"
   ]
  },
  {
   "cell_type": "code",
   "execution_count": null,
   "id": "83468ad0",
   "metadata": {},
   "outputs": [],
   "source": [
    "f = h5py.File(os.path.join(SAVE_DIR, SPLIT_NAME + '_dataset.hdf5'), 'w')"
   ]
  },
  {
   "cell_type": "code",
   "execution_count": null,
   "id": "0c2e44d6",
   "metadata": {},
   "outputs": [],
   "source": [
    "ego_in = f.create_dataset(\"ego_in\", shape=(num_scenes, 4, 8), chunks=(1, 4, 8), dtype=np.float32)\n",
    "ego_out = f.create_dataset(\"ego_out\", shape=(num_scenes, 12, 8), chunks=(1, 12, 8), dtype=np.float32)\n",
    "agent_trajectories = f.create_dataset(\"agents_trajectories\", shape=(num_scenes, 4, MAX_NUM_AGENTS, 8), chunks=(1, 4, MAX_NUM_AGENTS, 8), dtype=np.float32)\n",
    "scene_ids = f.create_dataset(\"scene_ids\", shape=(num_scenes, 1), chunks=(1, 1), dtype='S50')\n",
    "road_pts = f.create_dataset(\"road_pts\", shape=(num_scenes, 100, 40, 8), chunks=(1, 100, 40, 8), dtype=np.float16)\n",
    "constr_pts = f.create_dataset(\"constr_pts\", shape=(num_scenes, 50, 1, 8), chunks=(1, 50, 1, 8), dtype=np.float16)\n",
    "corners_pts = f.create_dataset(\"corners_pts\", shape=(num_scenes, 50, 4, 7), chunks=(1, 50, 4, 7), dtype=np.float16)"
   ]
  },
  {
   "cell_type": "code",
   "execution_count": null,
   "id": "81264fcb",
   "metadata": {},
   "outputs": [],
   "source": [
    "files_length = len(data_list)\n",
    "data_id = 0\n",
    "static_obj = True\n",
    "for i, file in enumerate(data_list):\n",
    "    if i % 10 == 0:\n",
    "        print(i, \"/\", files_length)\n",
    "    past_traj, future_traj = load_ego_trajectories(file, data_path)\n",
    "    road_pts_np = load_road_points(file, data_path)\n",
    "    obj_pts_np = load_constr_points(file, data_path)\n",
    "    obj_corners_np = load_constr_corner_points(file, data_path)\n",
    "    \n",
    "    n_traj = past_traj.shape[0]\n",
    "    \n",
    "    print(\"({}):{}\".format(i, n_traj))\n",
    "    if not obj_pts_np.shape:\n",
    "        static_obj = False\n",
    "    \n",
    "    \n",
    "    #print(\"Past_traj: \", n_traj)\n",
    "    for traj_number in range(n_traj):\n",
    "        current_ego = past_traj[traj_number,3,:]\n",
    "        current_map = road_pts_np[traj_number]\n",
    "        current_past = past_traj[traj_number]\n",
    "        current_future = future_traj[traj_number]\n",
    "\n",
    "        centered_map = global2localall(current_map, current_ego, dim=3, yaw_info=False)\n",
    "        centered_past = global2localall(current_past, current_ego, dim=3, yaw_info=True)\n",
    "        centered_future = global2localall(current_future, current_ego, dim=3, yaw_info=True)\n",
    "        \n",
    "        if static_obj:\n",
    "            centered_obj = global2localall(obj_pts_np, current_ego, dim=3, yaw_info=False)\n",
    "            #print(\"Bebefore: \", obj_corners_np.shape)\n",
    "            centered_obj_corners = global2localall(obj_corners_np, current_ego, dim=3, yaw_info=False)\n",
    "\n",
    "            centered_obj = centered_obj.reshape(-1, 1, centered_obj.shape[-1])\n",
    "            centered_obj_corners = centered_obj_corners.reshape(-1, 4, centered_obj_corners.shape[-1])\n",
    "            \n",
    "            centered_obj = process_construction(centered_obj, [0,0,0])\n",
    "            #print(\"Before: \", centered_obj_corners.shape)\n",
    "            test_corners = centered_obj_corners\n",
    "            centered_obj_corners = process_construction(centered_obj_corners, [0,0,0])\n",
    "        \n",
    "        centered_map = centered_map.reshape(100, 40, centered_map.shape[-1])\n",
    "        centered_map = insert_length(centered_map)\n",
    "        \n",
    "        scene_id = \"{}_{}\".format(file, traj_number)\n",
    "        \n",
    "        # Save in dataset table\n",
    "        if not static_obj:\n",
    "            centered_obj = np.zeros((50, 1, 8))\n",
    "            centered_obj_corners = np.zeros((50, 4, 7))\n",
    "            \n",
    "        #print(file)\n",
    "        ego_in[data_id] = centered_past\n",
    "        ego_out[data_id] = centered_future\n",
    "        agent_trajectories[data_id] = np.zeros((4, MAX_NUM_AGENTS, 8))\n",
    "        scene_ids[data_id] = scene_id\n",
    "        road_pts[data_id] = centered_map\n",
    "        constr_pts[data_id] = centered_obj\n",
    "        \n",
    "        #print(\"After: \", centered_obj_corners.shape)\n",
    "        corners_pts[data_id] = centered_obj_corners\n",
    "        \n",
    "        data_id += 1"
   ]
  },
  {
   "cell_type": "code",
   "execution_count": null,
   "id": "e57209cf",
   "metadata": {},
   "outputs": [],
   "source": [
    "obj_corners_np.shape"
   ]
  },
  {
   "cell_type": "code",
   "execution_count": null,
   "id": "6e10e018",
   "metadata": {},
   "outputs": [],
   "source": [
    "obj_corners_np"
   ]
  },
  {
   "cell_type": "code",
   "execution_count": null,
   "id": "3060a8bf",
   "metadata": {},
   "outputs": [],
   "source": [
    "test_corners"
   ]
  },
  {
   "cell_type": "code",
   "execution_count": null,
   "id": "1d7cd173",
   "metadata": {},
   "outputs": [],
   "source": [
    "plt.scatter(test_corners[0,:,0], test_corners[0,:,1])"
   ]
  },
  {
   "cell_type": "code",
   "execution_count": null,
   "id": "3026fdb2",
   "metadata": {},
   "outputs": [],
   "source": [
    "plt.scatter(obj_corners_np[:,0], obj_corners_np[:,1])"
   ]
  },
  {
   "cell_type": "markdown",
   "id": "d6bc1fc7",
   "metadata": {},
   "source": [
    "### Test"
   ]
  },
  {
   "cell_type": "code",
   "execution_count": null,
   "id": "bff989f7",
   "metadata": {},
   "outputs": [],
   "source": [
    "data_root = \"/home/juan/Documents/simulators/cone_sim/dataset/\"\n",
    "split_name = 'val'"
   ]
  },
  {
   "cell_type": "code",
   "execution_count": null,
   "id": "a1a41042",
   "metadata": {},
   "outputs": [],
   "source": [
    "dataset = h5py.File(os.path.join(data_root, split_name + '_dataset.hdf5'), 'r')"
   ]
  },
  {
   "cell_type": "code",
   "execution_count": null,
   "id": "f1e28e89",
   "metadata": {},
   "outputs": [],
   "source": [
    "dataset['ego_in'].shape"
   ]
  },
  {
   "cell_type": "code",
   "execution_count": null,
   "id": "2c7e2687",
   "metadata": {},
   "outputs": [],
   "source": [
    "len(dataset['ego_out'])"
   ]
  },
  {
   "cell_type": "code",
   "execution_count": null,
   "id": "52246d5d",
   "metadata": {},
   "outputs": [],
   "source": [
    "idx = 1000"
   ]
  },
  {
   "cell_type": "code",
   "execution_count": null,
   "id": "e3d738ef",
   "metadata": {},
   "outputs": [],
   "source": [
    "ego_in_i = dataset['ego_in'][idx]\n",
    "ego_out_i = dataset['ego_out'][idx]\n",
    "#agent_trajectories = dataset['agent_trajectories'][idx]\n",
    "scene_ids_i = dataset['scene_ids'][idx]\n",
    "road_pts_i = dataset['road_pts'][idx]\n",
    "constr_pts_i = dataset['constr_pts'][idx]"
   ]
  },
  {
   "cell_type": "code",
   "execution_count": null,
   "id": "968070bd",
   "metadata": {},
   "outputs": [],
   "source": [
    "road_pts_i"
   ]
  },
  {
   "cell_type": "code",
   "execution_count": null,
   "id": "a381fd13",
   "metadata": {},
   "outputs": [],
   "source": [
    "road_pts_i = road_pts_i.reshape(-1,8)\n",
    "constr_pts_i = constr_pts_i.reshape(-1,8)"
   ]
  },
  {
   "cell_type": "code",
   "execution_count": null,
   "id": "08cfaca5",
   "metadata": {
    "scrolled": false
   },
   "outputs": [],
   "source": [
    "plt.figure(figsize=(20, 16))\n",
    "\n",
    "plt.scatter(road_pts_i[:,0], road_pts_i[:,1], color='gray', label='road')\n",
    "plt.scatter(constr_pts_i[:,0], constr_pts_i[:,1], color='orange', label='construction zone')\n",
    "plt.scatter(ego_out_i[:,0], ego_out_i[:,1], color='blue', label='future')\n",
    "plt.scatter(ego_in_i[:,0], ego_in_i[:,1], color='red', label='past')\n",
    "\n",
    "ax = plt.gca()\n",
    "ax.set_aspect('equal')\n",
    "plt.legend()"
   ]
  },
  {
   "cell_type": "code",
   "execution_count": null,
   "id": "bf584f4c",
   "metadata": {},
   "outputs": [],
   "source": [
    "ego_in_i.shape"
   ]
  },
  {
   "cell_type": "code",
   "execution_count": null,
   "id": "d84170c6",
   "metadata": {},
   "outputs": [],
   "source": [
    "ego_out_i.shape"
   ]
  },
  {
   "cell_type": "code",
   "execution_count": null,
   "id": "aecbc220",
   "metadata": {},
   "outputs": [],
   "source": [
    "road_pts_i.shape"
   ]
  },
  {
   "cell_type": "code",
   "execution_count": null,
   "id": "8034240b",
   "metadata": {},
   "outputs": [],
   "source": [
    "constr_pts_i.shape"
   ]
  },
  {
   "cell_type": "code",
   "execution_count": null,
   "id": "b4e40439",
   "metadata": {},
   "outputs": [],
   "source": [
    "scene_ids_i"
   ]
  },
  {
   "cell_type": "code",
   "execution_count": null,
   "id": "0ca90221",
   "metadata": {},
   "outputs": [],
   "source": [
    "ego_in_i = dataset['ego_in'][idx]\n",
    "ego_out_i = dataset['ego_out'][idx]\n",
    "#agent_trajectories = dataset['agent_trajectories'][idx]\n",
    "scene_ids_i = dataset['scene_ids'][idx]\n",
    "road_pts_i = dataset['road_pts'][idx]\n",
    "constr_pts_i = dataset['constr_pts'][idx]"
   ]
  },
  {
   "cell_type": "code",
   "execution_count": null,
   "id": "eef6f105",
   "metadata": {},
   "outputs": [],
   "source": [
    "dataset['agents_trajectories'][0].shape"
   ]
  },
  {
   "cell_type": "code",
   "execution_count": null,
   "id": "1342e7e0",
   "metadata": {},
   "outputs": [],
   "source": [
    "def mirror_scene(ego_in, ego_out, scene_ids, road_pts, constr_pts):\n",
    "    ego_in[:,0] = -ego_in[:,0]\n",
    "    ego_out[:,0] = -ego_out[:,0]\n",
    "    road_pts[:,:,0] = -road_pts[:,:,0]\n",
    "    constr_pts[:,:,0] = -constr_pts[:,:,0]\n",
    "    scene_ids = np.char.add(scene_ids, b'_m')\n",
    "    return ego_in, ego_out, scene_ids, road_pts, constr_pts"
   ]
  },
  {
   "cell_type": "code",
   "execution_count": null,
   "id": "0213a5ec",
   "metadata": {},
   "outputs": [],
   "source": [
    "ego_in, ego_out_i, scene_ids_i, road_pts_i, constr_pts_i = mirror_scene(ego_in_i, ego_out_i, scene_ids_i, road_pts_i, constr_pts_i)"
   ]
  },
  {
   "cell_type": "code",
   "execution_count": null,
   "id": "a004c6fe",
   "metadata": {},
   "outputs": [],
   "source": [
    "road_pts_i = road_pts_i.reshape(-1,8)\n",
    "constr_pts_i = constr_pts_i.reshape(-1,8)"
   ]
  },
  {
   "cell_type": "code",
   "execution_count": null,
   "id": "3c501829",
   "metadata": {},
   "outputs": [],
   "source": [
    "plt.figure(figsize=(20, 16))\n",
    "\n",
    "plt.scatter(road_pts_i[:,0], road_pts_i[:,1], color='gray', label='road')\n",
    "plt.scatter(constr_pts_i[:,0], constr_pts_i[:,1], color='orange', label='construction zone')\n",
    "plt.scatter(ego_out_i[:,0], ego_out_i[:,1], color='blue', label='future')\n",
    "plt.scatter(ego_in_i[:,0], ego_in_i[:,1], color='red', label='past')\n",
    "ax.set_aspect('equal')\n",
    "plt.legend()"
   ]
  },
  {
   "cell_type": "code",
   "execution_count": null,
   "id": "09ce066b",
   "metadata": {},
   "outputs": [],
   "source": []
  }
 ],
 "metadata": {
  "kernelspec": {
   "display_name": "AutoBots",
   "language": "python",
   "name": "autobots"
  },
  "language_info": {
   "codemirror_mode": {
    "name": "ipython",
    "version": 3
   },
   "file_extension": ".py",
   "mimetype": "text/x-python",
   "name": "python",
   "nbconvert_exporter": "python",
   "pygments_lexer": "ipython3",
   "version": "3.7.16"
  }
 },
 "nbformat": 4,
 "nbformat_minor": 5
}
